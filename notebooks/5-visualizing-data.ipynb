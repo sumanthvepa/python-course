{
 "cells": [
  {
   "cell_type": "markdown",
   "id": "711f783b-14c7-45c1-9dff-f48aec8cc44d",
   "metadata": {},
   "source": [
    "## Chapter 5\n",
    "# Visualizing Data"
   ]
  },
  {
   "cell_type": "markdown",
   "id": "edd355f2-98d2-4311-ba92-1e5140222e0b",
   "metadata": {},
   "source": [
    "## Summary"
   ]
  },
  {
   "cell_type": "markdown",
   "id": "66ac6df9-1e3a-4b44-8537-105b4eefe02c",
   "metadata": {},
   "source": [
    "## 5.1 Widgets and Browser Interaction in Jupyter\n",
    "\n",
    "Thus far, we've only generated output which goes directly to the console. The program snippet is run with fixed input and it generates some output to a 'console' as shown below. "
   ]
  },
  {
   "cell_type": "code",
   "execution_count": 1,
   "id": "54ff95ed-d016-44c1-840a-dd02f6b1d743",
   "metadata": {},
   "outputs": [
    {
     "name": "stdout",
     "output_type": "stream",
     "text": [
      "[0, 1, 1, 2, 3, 5, 8, 13, 21, 34]\n"
     ]
    }
   ],
   "source": [
    "def fibonacci(n: int) -> list[int]:\n",
    "  \"\"\"\n",
    "  Generate a Fibonacci sequence up to the n-th number.\n",
    "  :param n: The length of the Fibonacci sequence to generate.\n",
    "  :return: A list containing the Fibonacci sequence.\n",
    "  \"\"\"\n",
    "  sequence = [0, 1]\n",
    "  for i in range(2, n):\n",
    "    sequence.append(sequence[i - 1] + sequence[i - 2])\n",
    "  return sequence[:n]\n",
    "\n",
    "if __name__ == '__main__':\n",
    "  print(fibonacci(10))"
   ]
  },
  {
   "cell_type": "markdown",
   "id": "ce9c125e-cfad-4139-87c5-4ae422aa5a76",
   "metadata": {},
   "source": [
    "You can also of course use standard Python facilities for console input:"
   ]
  },
  {
   "cell_type": "code",
   "execution_count": 2,
   "id": "b2a26453-bc4b-457a-bd5f-8a169ac254a0",
   "metadata": {},
   "outputs": [
    {
     "name": "stdin",
     "output_type": "stream",
     "text": [
      "Enter length of fibonacci sequence:  5\n"
     ]
    },
    {
     "name": "stdout",
     "output_type": "stream",
     "text": [
      "[0, 1, 1, 2, 3]\n"
     ]
    }
   ],
   "source": [
    "try:\n",
    "  length: int = int(input('Enter length of fibonacci sequence: '))\n",
    "  print(fibonacci(length))\n",
    "except ValueError as ex:\n",
    "  print(ex)"
   ]
  },
  {
   "cell_type": "markdown",
   "id": "16e7c762-c4c1-4081-ac11-121fbf882f5d",
   "metadata": {},
   "source": [
    "But this is limiting in several ways. For one thing you have to re-run the code everytime you want to take a new input. More importantantly, when you run a notebook, execution will pause until the input is provided. Notice that when this page is rerun using  &#x23e9; button above, execution stops at the code snippet above until an input is provided.\n",
    "\n",
    "Also the ouput is just unstyled text. But if you need more interactivty or you want to style your output or even display non-text, like images, or even YouTube videos, then you need to use the display facilities that Jupyter exposes for use within a browser web-page like this one."
   ]
  },
  {
   "cell_type": "markdown",
   "id": "2bab69ac-a687-459f-b30b-e22043af2c05",
   "metadata": {},
   "source": [
    "### IPython.display\n",
    "Jupyter is built on IPython <a href=\"#ipython-doc\">[1]</a> that provides facilities for interacting with the web page in the browser.\n",
    "\n",
    "Ipython provides a function named [`display()`](https://ipython.readthedocs.io/en/stable/api/generated/IPython.display.html#IPython.display.display) which is part of a module named [`display`](https://ipython.readthedocs.io/en/stable/api/generated/IPython.display.html#module-IPython.display) that allows for rich display formats including HTML/CSS/Javascript, Images, Audio and video. Here is an example of displaying HTML in a Jupyter notebook:"
   ]
  },
  {
   "cell_type": "code",
   "execution_count": 4,
   "id": "841bca12-7029-4747-879b-3cce5a13215e",
   "metadata": {},
   "outputs": [
    {
     "data": {
      "text/html": [
       "<h4>A Heading</h4><p>Some text here</p>"
      ],
      "text/plain": [
       "<IPython.core.display.HTML object>"
      ]
     },
     "metadata": {},
     "output_type": "display_data"
    }
   ],
   "source": [
    "from IPython.display import display, HTML\n",
    "\n",
    "def show_html_message() -> None:\n",
    "  \"\"\"\n",
    "    Display a HTML snippet in a Jupyter notebook\n",
    "    :return: None\n",
    "  \"\"\"\n",
    "  message = HTML('<h4>A Heading</h4><p>Some text here</p>')\n",
    "  display(message)\n",
    "\n",
    "if __name__ == '__main__':\n",
    "  show_html_message()"
   ]
  },
  {
   "cell_type": "markdown",
   "id": "80bdec52-3e41-4c60-acdd-5b4a58265663",
   "metadata": {},
   "source": [
    "The nice thing about the HTML class is that you can have some pretty complex HTML embeded in it. With complete styling. Here is a rendering of a TicTacToe board rendered with HTML and CSS alone."
   ]
  },
  {
   "cell_type": "markdown",
   "id": "35793880-3986-4f72-98e4-29e6a61351c2",
   "metadata": {},
   "source": [
    "## References\n",
    "<a id=\"ipython-doc\">[1]</a> IPython (2025) IPython website (stable). Available at: (https://ipython.org/)(Accessed: 26 August 2025)."
   ]
  }
 ],
 "metadata": {
  "kernelspec": {
   "display_name": "Python 3 (ipykernel)",
   "language": "python",
   "name": "python3"
  },
  "language_info": {
   "codemirror_mode": {
    "name": "ipython",
    "version": 3
   },
   "file_extension": ".py",
   "mimetype": "text/x-python",
   "name": "python",
   "nbconvert_exporter": "python",
   "pygments_lexer": "ipython3",
   "version": "3.13.7"
  }
 },
 "nbformat": 4,
 "nbformat_minor": 5
}
