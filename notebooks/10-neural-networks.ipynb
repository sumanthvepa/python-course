{
 "cells": [
  {
   "cell_type": "markdown",
   "id": "5999222b-a175-4cf3-bf62-1a95347bfda3",
   "metadata": {},
   "source": [
    "## Chapter 10\n",
    "# Neural Networks"
   ]
  },
  {
   "cell_type": "markdown",
   "id": "81f9cdb2-4b1a-4a8a-b284-2885aec827c7",
   "metadata": {
    "jp-MarkdownHeadingCollapsed": true
   },
   "source": [
    "## Summary"
   ]
  },
  {
   "cell_type": "markdown",
   "id": "01b1c8b2-87a0-440a-ae71-f6adaa66bde5",
   "metadata": {
    "jp-MarkdownHeadingCollapsed": true
   },
   "source": [
    "## What is a Neural Network"
   ]
  },
  {
   "cell_type": "markdown",
   "id": "e168bfee-6acd-4067-8eb3-232ded922cc4",
   "metadata": {
    "jp-MarkdownHeadingCollapsed": true
   },
   "source": [
    "## Building a Binary Classifier"
   ]
  },
  {
   "cell_type": "markdown",
   "id": "1b9e5795-88e2-47bc-8664-202cfe90382b",
   "metadata": {},
   "source": [
    "## An Overivew of PyTorch"
   ]
  },
  {
   "cell_type": "markdown",
   "id": "b255f82a-e1e1-412f-9be0-61a951aaf016",
   "metadata": {},
   "source": [
    "## Binary Classifier Using PyTorch"
   ]
  },
  {
   "cell_type": "code",
   "execution_count": 20,
   "id": "dbcdbe35-a764-4e07-9b0c-48393f2f5727",
   "metadata": {},
   "outputs": [
    {
     "data": {
      "application/vnd.jupyter.widget-view+json": {
       "model_id": "c35861d62cd14fe895dda9eb4341f0bc",
       "version_major": 2,
       "version_minor": 0
      },
      "text/plain": [
       "Button(description='Click me', style=ButtonStyle())"
      ]
     },
     "metadata": {},
     "output_type": "display_data"
    },
    {
     "data": {
      "application/vnd.jupyter.widget-view+json": {
       "model_id": "a7786c9ae0cc45a78ce5f9cd0f8a0262",
       "version_major": 2,
       "version_minor": 0
      },
      "text/plain": [
       "Output(layout=Layout(border_bottom='1px solid black', border_left='1px solid black', border_right='1px solid b…"
      ]
     },
     "metadata": {},
     "output_type": "display_data"
    }
   ],
   "source": [
    "import ipywidgets\n",
    "from IPython.display import display, clear_output\n",
    "\n",
    "count = 0\n",
    "\n",
    "button = ipywidgets.Button(description='Click me')\n",
    "output = ipywidgets.Output(layout={'border': '1px solid black'})\n",
    "\n",
    "display(button, output)\n",
    "with output:\n",
    "  print('Click count here')\n",
    "\n",
    "def on_button_clicked(b):\n",
    "  global count\n",
    "  with output:\n",
    "    count += 1\n",
    "    output.clear_output()\n",
    "    print(f'click count: {count}')\n",
    "button.on_click(on_button_clicked)\n"
   ]
  },
  {
   "cell_type": "markdown",
   "id": "cda23286-cb8b-4662-9f66-2e82dd48db36",
   "metadata": {},
   "source": [
    "## References"
   ]
  },
  {
   "cell_type": "code",
   "execution_count": null,
   "id": "3eb1e568-7474-4435-84c6-bc2abab9261a",
   "metadata": {},
   "outputs": [],
   "source": []
  }
 ],
 "metadata": {
  "kernelspec": {
   "display_name": "Python 3 (ipykernel)",
   "language": "python",
   "name": "python3"
  },
  "language_info": {
   "codemirror_mode": {
    "name": "ipython",
    "version": 3
   },
   "file_extension": ".py",
   "mimetype": "text/x-python",
   "name": "python",
   "nbconvert_exporter": "python",
   "pygments_lexer": "ipython3",
   "version": "3.13.7"
  }
 },
 "nbformat": 4,
 "nbformat_minor": 5
}
